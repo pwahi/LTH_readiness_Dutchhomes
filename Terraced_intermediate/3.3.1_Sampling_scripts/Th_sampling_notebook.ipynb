{
 "cells": [
  {
   "cell_type": "markdown",
   "id": "3c3d4c79-7280-402d-9a9b-d1ee19e54ff3",
   "metadata": {},
   "source": [
    "## Import Libraries"
   ]
  },
  {
   "cell_type": "code",
   "execution_count": null,
   "id": "69e9f8d4",
   "metadata": {},
   "outputs": [],
   "source": [
    "from Th_sampler_script import generate_samples, visualize_samples_and_plot_pdf_cdf\n",
    "import numpy as np\n",
    "import pandas as pd\n",
    "import datetime\n",
    "import os\n",
    "from pathlib import Path"
   ]
  },
  {
   "cell_type": "markdown",
   "id": "680661c7-a0ed-41e3-8db8-3a312c412b3c",
   "metadata": {},
   "source": [
    "## Sample Generation as per user input"
   ]
  },
  {
   "cell_type": "code",
   "execution_count": null,
   "id": "808bc9a4",
   "metadata": {},
   "outputs": [],
   "source": [
    "# Enter number of iteration \n",
    "itr = input(\"Iteration number: \")\n",
    "\n",
    "# Enter number of samples\n",
    "sample_size = int(input(\"Sample size: \"))\n",
    "\n",
    "# Get todays date\n",
    "today = datetime.date.today()\n",
    "\n",
    "# Generate Samples\n",
    "gen_sample = generate_samples(sample_size)"
   ]
  },
  {
   "cell_type": "code",
   "execution_count": null,
   "id": "8cc73889",
   "metadata": {},
   "outputs": [],
   "source": [
    "# Visualise the dataframe of samples\n",
    "gen_sample"
   ]
  },
  {
   "cell_type": "code",
   "execution_count": null,
   "id": "8ee5cb23-5247-4c0b-bbdc-2e3174d295bd",
   "metadata": {
    "scrolled": true
   },
   "outputs": [],
   "source": [
    "visualize_samples_and_plot_pdf_cdf(gen_sample)"
   ]
  },
  {
   "cell_type": "markdown",
   "id": "6902535a",
   "metadata": {},
   "source": [
    "## Saving sampled data as Excel files and making relavant directories for simulations"
   ]
  },
  {
   "cell_type": "code",
   "execution_count": null,
   "id": "869f07bf",
   "metadata": {},
   "outputs": [],
   "source": [
    "# Get the current working directory \n",
    "current_dir = Path().resolve()\n",
    "\n",
    "#Navigate to the main project directory\n",
    "main_project_dir = current_dir.parent\n",
    "\n",
    "# Define the base directory realtive to the current working directory\n",
    "base_dir = main_project_dir/'3.2_Rhino_grashopper_scripts'\n",
    "\n",
    "\n",
    "# Define file names \n",
    "inp_file_name = f\"{today}_inputfile_itr_{itr}_size_{sample_size}.xlsx\"\n",
    "out_file_name = f\"{today}_outputfile_itr_{itr}_size_{sample_size}.xlsx\"\n",
    "\n",
    "# Define directory names\n",
    "hbjson_dir_name = f\"{today}_hbjson_itr_{itr}_size_{sample_size}\"\n",
    "simpar_dir_name = f\"{today}_simpar_itr_{itr}_size_{sample_size}\"\n",
    "sqlfiles_dir_name = f\"{today}_sqlfiles_itr_{itr}_size_{sample_size}\"\n",
    "\n",
    "# Define file paths\n",
    "input_dir_path = os.path.join(base_dir, \"1. Input_excel\", inp_file_name)\n",
    "output_dir_path = os.path.join(base_dir, \"2. Output_excel\", out_file_name)\n",
    "hbjson_dir_path = os.path.join(base_dir, \"3. HBjson\", hbjson_dir_name)\n",
    "simpar_dir_path = os.path.join(base_dir, \"4. Sim_par\", simpar_dir_name)\n",
    "sqlfiles_dir_path = os.path.join(base_dir, \"5. Sql_files\", sqlfiles_dir_name)\n",
    "\n",
    "# Create directories\n",
    "os.makedirs(hbjson_dir_path, exist_ok=True)\n",
    "os.makedirs(simpar_dir_path, exist_ok=True)\n",
    "os.makedirs(sqlfiles_dir_path, exist_ok=True)\n",
    "\n",
    "# Save sampled dataframe to input file. \n",
    "gen_sample.to_excel(input_dir_path, index = False)\n",
    "\n",
    "# Add new columns for the output file\n",
    "gen_sample_out = gen_sample.copy()\n",
    "gen_sample_out['Heating_demand'] = ''\n",
    "gen_sample_out['Underheated_hours'] = ''\n",
    "\n",
    "# Save the new dataframe to output file. \n",
    "gen_sample_out.to_excel(output_dir_path, index = False)"
   ]
  },
  {
   "cell_type": "code",
   "execution_count": null,
   "id": "517c3e5a",
   "metadata": {},
   "outputs": [],
   "source": []
  },
  {
   "cell_type": "code",
   "execution_count": null,
   "id": "b25062db",
   "metadata": {},
   "outputs": [],
   "source": []
  }
 ],
 "metadata": {
  "kernelspec": {
   "display_name": "Python 3 (ipykernel)",
   "language": "python",
   "name": "python3"
  },
  "language_info": {
   "codemirror_mode": {
    "name": "ipython",
    "version": 3
   },
   "file_extension": ".py",
   "mimetype": "text/x-python",
   "name": "python",
   "nbconvert_exporter": "python",
   "pygments_lexer": "ipython3",
   "version": "3.8.8"
  }
 },
 "nbformat": 4,
 "nbformat_minor": 5
}
