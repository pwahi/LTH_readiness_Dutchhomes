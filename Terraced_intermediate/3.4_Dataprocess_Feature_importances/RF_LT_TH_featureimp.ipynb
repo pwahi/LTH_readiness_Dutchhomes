{
 "cells": [
  {
   "cell_type": "markdown",
   "id": "95460cdb",
   "metadata": {},
   "source": [
    " ## Importing relevant libraries "
   ]
  },
  {
   "cell_type": "code",
   "execution_count": 1,
   "id": "1fe858d6",
   "metadata": {},
   "outputs": [],
   "source": [
    "import pandas as pd\n",
    "import numpy as np\n",
    "\n",
    "import matplotlib.pyplot as plt\n",
    "import seaborn as sns\n",
    "\n",
    "from sklearn.model_selection import train_test_split\n",
    "\n",
    "from sklearn.dummy import DummyClassifier\n",
    "from sklearn.ensemble import RandomForestClassifier\n",
    "\n",
    "from sklearn.metrics import balanced_accuracy_score\n",
    "from sklearn.metrics import precision_score, recall_score, make_scorer, f1_score\n",
    "from sklearn.metrics import ConfusionMatrixDisplay"
   ]
  },
  {
   "cell_type": "markdown",
   "id": "5d76888d",
   "metadata": {},
   "source": [
    "## Functions"
   ]
  },
  {
   "cell_type": "code",
   "execution_count": 2,
   "id": "72364791",
   "metadata": {},
   "outputs": [],
   "source": [
    "def score_recorder(classifier_name, ml_model, X_train, y_train, X_test, y_test):\n",
    "    \"\"\"\n",
    "    A function to record the precision and recall score for different\n",
    "    classifier trials to comapre the performance. \n",
    "    Classifier_name : a string name of the classifier used for study.\n",
    "    ml_model : The ML model trained for classification problem. \n",
    "    X_train : The train data.\n",
    "    y_train : The train labels\n",
    "    X_test : The test data.\n",
    "    y_test : The test labels\n",
    "    \"\"\"\n",
    "    y_pred_test = ml_model.predict(X_test) \n",
    "    \n",
    "    scores = {\n",
    "        'Train_accuracy' : ml_model.score(X_train, y_train),\n",
    "        'Test_accuracy' : ml_model.score(X_test, y_test),\n",
    "        'Balanced_accuracy' : balanced_accuracy_score(y_test, y_pred_test),\n",
    "        'Test_Precision' : precision_score(y_test, y_pred_test, pos_label = \"ready\"),\n",
    "        'Test_Recall' : recall_score(y_test, y_pred_test, pos_label=\"ready\"),\n",
    "        'Test_F1_score' : f1_score(y_test, y_pred_test, pos_label = \"ready\" )\n",
    "    }\n",
    "    \n",
    "    df_scores = pd.DataFrame(scores, index = [classifier_name])\n",
    "    \n",
    "    return df_scores"
   ]
  },
  {
   "cell_type": "code",
   "execution_count": 3,
   "id": "f5969aa0",
   "metadata": {},
   "outputs": [],
   "source": [
    "# for reproducibility of the models. \n",
    "random_state = 0"
   ]
  },
  {
   "cell_type": "markdown",
   "id": "88af6b34",
   "metadata": {},
   "source": [
    "## Data preprocessing and labelling. "
   ]
  },
  {
   "cell_type": "markdown",
   "id": "e3dca121",
   "metadata": {},
   "source": [
    "> * The dataset was heavly imbalanced that is only 1 sample for LT ready. \n",
    "> * By plotting the differences between heating demand and cold horus in HT and LT , it was noticed that the cold hours difference between LT and HT zero is strict. \n",
    "> * That means if a house has 100 cold hours in HT and 99 cold hours in LT then it is `ready` whereas if another sample has 101 then it is `not LT ready`. \n",
    "> * Therefore, by visual inspection 15 hour (one occupied day in the living room) was taken as threshold for labelling samples as `ready` or `not ready`. \n",
    ">> * If the absolute difference between cold hours in LT and HT supply is more than 12 then it is labeled as `not ready`. Otherwise `ready`. "
   ]
  },
  {
   "cell_type": "code",
   "execution_count": 5,
   "id": "bec2ebaa",
   "metadata": {},
   "outputs": [],
   "source": [
    "# Load the data from excel\n",
    "HT_df = pd.read_excel(\"2024-04-23_outputfile_itr_1_size_1300_HT.xlsx\")\n",
    "LT_df = pd.read_excel(\"2024-04-23_outputfile_itr_1_size_1300_LT.xlsx\")\n",
    "\n",
    "# sample number as column index \n",
    "HT_df.set_index('Sample Number', inplace = True)\n",
    "LT_df.set_index('Sample Number', inplace = True)\n",
    "\n",
    "# Define your threshold\n",
    "threshold_cold_hours = 15 # adjust as needed\n",
    "threshold_shd = 0\n",
    "\n",
    "# Loop through each sample\n",
    "for sample in HT_df.index:\n",
    "    # Get heating demand and cold hours for each sample in HT supply\n",
    "    HT_heating_demand = HT_df.loc[sample, 'Heating_demand']\n",
    "    HT_cold_hours = HT_df.loc[sample, 'Underheated_hours']\n",
    "    \n",
    "    # Get heating demand and cold hours for each sample in MT supply\n",
    "    LT_heating_demand = LT_df.loc[sample, 'Heating_demand']\n",
    "    LT_cold_hours = LT_df.loc[sample, 'Underheated_hours']\n",
    "    \n",
    "    # Check for LTH readiness\n",
    "    # if heating demands or cold hours in MT supply are higher than those in HT supply\n",
    "    # then sample is \"not ready: 0\" for MT\n",
    "    if abs(HT_heating_demand - LT_heating_demand) < threshold_shd or abs(LT_cold_hours-HT_cold_hours) > threshold_cold_hours:\n",
    "        LT_df.loc[sample, 'label'] = \"not_ready\" # Not ready\n",
    "        \n",
    "    # if not then the sample is \"ready\" for LT\n",
    "    else:\n",
    "        LT_df.loc[sample, 'label'] = \"ready\" # ready"
   ]
  },
  {
   "cell_type": "markdown",
   "id": "53a714f4",
   "metadata": {},
   "source": [
    "## Setting features and target"
   ]
  },
  {
   "cell_type": "code",
   "execution_count": 6,
   "id": "9dd7e716",
   "metadata": {},
   "outputs": [
    {
     "data": {
      "text/plain": [
       "Index(['Construction Year', 'orientation', 'compactness_ratio', 'WWR', 'Rc_Gr',\n",
       "       'Rc_Wl', 'Rc_Rf', 'U_Gz', 'U_Dr', 'Inf', 'Vent_sys', 'Temp_set',\n",
       "       'Heating_demand', 'Underheated_hours', 'label'],\n",
       "      dtype='object')"
      ]
     },
     "execution_count": 6,
     "metadata": {},
     "output_type": "execute_result"
    }
   ],
   "source": [
    "# Access the features\n",
    "LT_df.columns"
   ]
  },
  {
   "cell_type": "markdown",
   "id": "ef685e2f",
   "metadata": {},
   "source": [
    "> * We will drop `Construction Year` because it is an identifier of the sample and for only reference puporses.\n",
    "> * `Heating_demand` and `Underheated_hours` will also be dropped because they are the simulation outputs. We can use these outputs to develop a regression ML model.\n",
    "> * However, we want to understand the combined effect of heating demand and thermal comfort on making a sample `ready` or `not ready` using the `Lower Temperature Heating Ready` definition developed in this research. \n",
    ">>Therefore, `label` column is our <b> target </b> and\n",
    ">>`orientation, compactness ratio, WWR, Insulation (wall, floor, roof, windows, door), infilteration , ventilation system` and `heating setpoint` are the <b> features </b> for our classification problem. "
   ]
  },
  {
   "cell_type": "code",
   "execution_count": 7,
   "id": "8929efdc",
   "metadata": {},
   "outputs": [
    {
     "data": {
      "text/html": [
       "<div>\n",
       "<style scoped>\n",
       "    .dataframe tbody tr th:only-of-type {\n",
       "        vertical-align: middle;\n",
       "    }\n",
       "\n",
       "    .dataframe tbody tr th {\n",
       "        vertical-align: top;\n",
       "    }\n",
       "\n",
       "    .dataframe thead th {\n",
       "        text-align: right;\n",
       "    }\n",
       "</style>\n",
       "<table border=\"1\" class=\"dataframe\">\n",
       "  <thead>\n",
       "    <tr style=\"text-align: right;\">\n",
       "      <th></th>\n",
       "      <th>orientation</th>\n",
       "      <th>compactness_ratio</th>\n",
       "      <th>WWR</th>\n",
       "      <th>Rc_Gr</th>\n",
       "      <th>Rc_Wl</th>\n",
       "      <th>Rc_Rf</th>\n",
       "      <th>U_Gz</th>\n",
       "      <th>U_Dr</th>\n",
       "      <th>Inf</th>\n",
       "      <th>Vent_sys</th>\n",
       "      <th>Temp_set</th>\n",
       "    </tr>\n",
       "    <tr>\n",
       "      <th>Sample Number</th>\n",
       "      <th></th>\n",
       "      <th></th>\n",
       "      <th></th>\n",
       "      <th></th>\n",
       "      <th></th>\n",
       "      <th></th>\n",
       "      <th></th>\n",
       "      <th></th>\n",
       "      <th></th>\n",
       "      <th></th>\n",
       "      <th></th>\n",
       "    </tr>\n",
       "  </thead>\n",
       "  <tbody>\n",
       "    <tr>\n",
       "      <th>1</th>\n",
       "      <td>90</td>\n",
       "      <td>1.015354</td>\n",
       "      <td>29</td>\n",
       "      <td>3.516031</td>\n",
       "      <td>2.214790</td>\n",
       "      <td>3.505104</td>\n",
       "      <td>2.463229</td>\n",
       "      <td>3.037537</td>\n",
       "      <td>1.115838</td>\n",
       "      <td>3</td>\n",
       "      <td>21</td>\n",
       "    </tr>\n",
       "    <tr>\n",
       "      <th>2</th>\n",
       "      <td>0</td>\n",
       "      <td>1.858442</td>\n",
       "      <td>31</td>\n",
       "      <td>1.451131</td>\n",
       "      <td>0.369810</td>\n",
       "      <td>1.620055</td>\n",
       "      <td>2.682916</td>\n",
       "      <td>3.042459</td>\n",
       "      <td>1.921535</td>\n",
       "      <td>1</td>\n",
       "      <td>20</td>\n",
       "    </tr>\n",
       "    <tr>\n",
       "      <th>3</th>\n",
       "      <td>180</td>\n",
       "      <td>1.630032</td>\n",
       "      <td>29</td>\n",
       "      <td>4.106602</td>\n",
       "      <td>3.684955</td>\n",
       "      <td>2.305246</td>\n",
       "      <td>2.680176</td>\n",
       "      <td>3.223157</td>\n",
       "      <td>0.897848</td>\n",
       "      <td>3</td>\n",
       "      <td>21</td>\n",
       "    </tr>\n",
       "    <tr>\n",
       "      <th>4</th>\n",
       "      <td>0</td>\n",
       "      <td>1.411543</td>\n",
       "      <td>31</td>\n",
       "      <td>2.298882</td>\n",
       "      <td>1.963910</td>\n",
       "      <td>3.219770</td>\n",
       "      <td>2.896433</td>\n",
       "      <td>2.655416</td>\n",
       "      <td>1.619801</td>\n",
       "      <td>1</td>\n",
       "      <td>19</td>\n",
       "    </tr>\n",
       "    <tr>\n",
       "      <th>5</th>\n",
       "      <td>90</td>\n",
       "      <td>1.339837</td>\n",
       "      <td>36</td>\n",
       "      <td>0.791084</td>\n",
       "      <td>1.921325</td>\n",
       "      <td>1.279116</td>\n",
       "      <td>3.875913</td>\n",
       "      <td>3.164528</td>\n",
       "      <td>2.965559</td>\n",
       "      <td>3</td>\n",
       "      <td>18</td>\n",
       "    </tr>\n",
       "    <tr>\n",
       "      <th>...</th>\n",
       "      <td>...</td>\n",
       "      <td>...</td>\n",
       "      <td>...</td>\n",
       "      <td>...</td>\n",
       "      <td>...</td>\n",
       "      <td>...</td>\n",
       "      <td>...</td>\n",
       "      <td>...</td>\n",
       "      <td>...</td>\n",
       "      <td>...</td>\n",
       "      <td>...</td>\n",
       "    </tr>\n",
       "    <tr>\n",
       "      <th>1296</th>\n",
       "      <td>90</td>\n",
       "      <td>1.395122</td>\n",
       "      <td>29</td>\n",
       "      <td>2.105027</td>\n",
       "      <td>2.228963</td>\n",
       "      <td>6.765320</td>\n",
       "      <td>1.851061</td>\n",
       "      <td>2.374605</td>\n",
       "      <td>1.066517</td>\n",
       "      <td>7</td>\n",
       "      <td>20</td>\n",
       "    </tr>\n",
       "    <tr>\n",
       "      <th>1297</th>\n",
       "      <td>135</td>\n",
       "      <td>1.314427</td>\n",
       "      <td>36</td>\n",
       "      <td>2.942374</td>\n",
       "      <td>2.410997</td>\n",
       "      <td>1.652692</td>\n",
       "      <td>3.888668</td>\n",
       "      <td>3.169178</td>\n",
       "      <td>2.284567</td>\n",
       "      <td>1</td>\n",
       "      <td>21</td>\n",
       "    </tr>\n",
       "    <tr>\n",
       "      <th>1298</th>\n",
       "      <td>135</td>\n",
       "      <td>1.901989</td>\n",
       "      <td>36</td>\n",
       "      <td>2.647939</td>\n",
       "      <td>2.506032</td>\n",
       "      <td>0.917718</td>\n",
       "      <td>3.735175</td>\n",
       "      <td>2.890603</td>\n",
       "      <td>2.091183</td>\n",
       "      <td>1</td>\n",
       "      <td>21</td>\n",
       "    </tr>\n",
       "    <tr>\n",
       "      <th>1299</th>\n",
       "      <td>270</td>\n",
       "      <td>1.210591</td>\n",
       "      <td>36</td>\n",
       "      <td>4.230929</td>\n",
       "      <td>0.952511</td>\n",
       "      <td>0.501295</td>\n",
       "      <td>3.176973</td>\n",
       "      <td>2.684305</td>\n",
       "      <td>1.735555</td>\n",
       "      <td>1</td>\n",
       "      <td>19</td>\n",
       "    </tr>\n",
       "    <tr>\n",
       "      <th>1300</th>\n",
       "      <td>270</td>\n",
       "      <td>1.483319</td>\n",
       "      <td>36</td>\n",
       "      <td>2.123268</td>\n",
       "      <td>0.622749</td>\n",
       "      <td>1.518542</td>\n",
       "      <td>3.567490</td>\n",
       "      <td>2.820222</td>\n",
       "      <td>2.398910</td>\n",
       "      <td>1</td>\n",
       "      <td>19</td>\n",
       "    </tr>\n",
       "  </tbody>\n",
       "</table>\n",
       "<p>1300 rows × 11 columns</p>\n",
       "</div>"
      ],
      "text/plain": [
       "               orientation  compactness_ratio  WWR     Rc_Gr     Rc_Wl  \\\n",
       "Sample Number                                                            \n",
       "1                       90           1.015354   29  3.516031  2.214790   \n",
       "2                        0           1.858442   31  1.451131  0.369810   \n",
       "3                      180           1.630032   29  4.106602  3.684955   \n",
       "4                        0           1.411543   31  2.298882  1.963910   \n",
       "5                       90           1.339837   36  0.791084  1.921325   \n",
       "...                    ...                ...  ...       ...       ...   \n",
       "1296                    90           1.395122   29  2.105027  2.228963   \n",
       "1297                   135           1.314427   36  2.942374  2.410997   \n",
       "1298                   135           1.901989   36  2.647939  2.506032   \n",
       "1299                   270           1.210591   36  4.230929  0.952511   \n",
       "1300                   270           1.483319   36  2.123268  0.622749   \n",
       "\n",
       "                  Rc_Rf      U_Gz      U_Dr       Inf  Vent_sys  Temp_set  \n",
       "Sample Number                                                              \n",
       "1              3.505104  2.463229  3.037537  1.115838         3        21  \n",
       "2              1.620055  2.682916  3.042459  1.921535         1        20  \n",
       "3              2.305246  2.680176  3.223157  0.897848         3        21  \n",
       "4              3.219770  2.896433  2.655416  1.619801         1        19  \n",
       "5              1.279116  3.875913  3.164528  2.965559         3        18  \n",
       "...                 ...       ...       ...       ...       ...       ...  \n",
       "1296           6.765320  1.851061  2.374605  1.066517         7        20  \n",
       "1297           1.652692  3.888668  3.169178  2.284567         1        21  \n",
       "1298           0.917718  3.735175  2.890603  2.091183         1        21  \n",
       "1299           0.501295  3.176973  2.684305  1.735555         1        19  \n",
       "1300           1.518542  3.567490  2.820222  2.398910         1        19  \n",
       "\n",
       "[1300 rows x 11 columns]"
      ]
     },
     "execution_count": 7,
     "metadata": {},
     "output_type": "execute_result"
    }
   ],
   "source": [
    "data = LT_df.drop(columns=['Construction Year', 'label', 'Heating_demand', 'Underheated_hours'])\n",
    "target = LT_df['label']\n",
    "\n",
    "data"
   ]
  },
  {
   "cell_type": "markdown",
   "id": "39610dab",
   "metadata": {},
   "source": [
    "> * Random Forest Classifier can handel the data without scaling and encoding. so the data was used as such. "
   ]
  },
  {
   "cell_type": "code",
   "execution_count": 8,
   "id": "fc35e4a5",
   "metadata": {},
   "outputs": [
    {
     "data": {
      "image/png": "[encoded data removed]",
      "text/plain": [
       "<Figure size 640x480 with 1 Axes>"
      ]
     },
     "metadata": {},
     "output_type": "display_data"
    }
   ],
   "source": [
    "# Visualise the distribution of the target\n",
    "\n",
    "target.value_counts().plot.barh()\n",
    "plt.xlabel(\"Number of sampels\")\n",
    "_ = plt.title(\"Number of samples 'ready' or 'not ready'\")"
   ]
  },
  {
   "cell_type": "code",
   "execution_count": 9,
   "id": "8e63bf65",
   "metadata": {},
   "outputs": [
    {
     "data": {
      "text/plain": [
       "label\n",
       "not_ready    1189\n",
       "ready         111\n",
       "Name: count, dtype: int64"
      ]
     },
     "execution_count": 9,
     "metadata": {},
     "output_type": "execute_result"
    }
   ],
   "source": [
    "target.value_counts()"
   ]
  },
  {
   "cell_type": "code",
   "execution_count": 10,
   "id": "6e710ecc",
   "metadata": {},
   "outputs": [
    {
     "data": {
      "text/plain": [
       "label\n",
       "not_ready    91.461538\n",
       "ready         8.538462\n",
       "Name: proportion, dtype: float64"
      ]
     },
     "execution_count": 10,
     "metadata": {},
     "output_type": "execute_result"
    }
   ],
   "source": [
    "target.value_counts(normalize=True)*100"
   ]
  },
  {
   "cell_type": "markdown",
   "id": "00aa2dd3",
   "metadata": {},
   "source": [
    "> * As it can be observed that the we have imbalanced sample. Therefore, the trained model will be biased towards classifying a sample to be `\"not ready\"`. "
   ]
  },
  {
   "cell_type": "markdown",
   "id": "d53a4d5c",
   "metadata": {},
   "source": [
    "## Train-Test split"
   ]
  },
  {
   "cell_type": "code",
   "execution_count": 11,
   "id": "e10fa7e9",
   "metadata": {},
   "outputs": [],
   "source": [
    "data_train, data_test, target_train, target_test = train_test_split(\n",
    "    data, \n",
    "    target, \n",
    "    shuffle=True, \n",
    "    random_state=random_state, \n",
    "    test_size=0.2\n",
    ")"
   ]
  },
  {
   "cell_type": "code",
   "execution_count": 12,
   "id": "8c52a544",
   "metadata": {},
   "outputs": [
    {
     "data": {
      "image/png": "[encoded data removed]",
      "text/plain": [
       "<Figure size 640x480 with 1 Axes>"
      ]
     },
     "metadata": {},
     "output_type": "display_data"
    }
   ],
   "source": [
    "target_train.value_counts().plot.barh()\n",
    "plt.xlabel(\"Label Frequency\")\n",
    "_ = plt.title(\"Label frequency in the training set\")"
   ]
  },
  {
   "cell_type": "code",
   "execution_count": 13,
   "id": "0111e177",
   "metadata": {},
   "outputs": [
    {
     "data": {
      "text/plain": [
       "label\n",
       "not_ready    953\n",
       "ready         87\n",
       "Name: count, dtype: int64"
      ]
     },
     "execution_count": 13,
     "metadata": {},
     "output_type": "execute_result"
    }
   ],
   "source": [
    "target_train.value_counts()"
   ]
  },
  {
   "cell_type": "code",
   "execution_count": 14,
   "id": "da9bb7dc",
   "metadata": {},
   "outputs": [
    {
     "data": {
      "text/plain": [
       "label\n",
       "not_ready    91.634615\n",
       "ready         8.365385\n",
       "Name: proportion, dtype: float64"
      ]
     },
     "execution_count": 14,
     "metadata": {},
     "output_type": "execute_result"
    }
   ],
   "source": [
    "target_train.value_counts(normalize=True)*100"
   ]
  },
  {
   "cell_type": "markdown",
   "id": "755facfc",
   "metadata": {},
   "source": [
    "> * This also demonstrates that the training set made from our dataset is imbalanced with around <b>8%</b> `'1: ready'` and <b>91%</b> `'0: not ready'`.\n",
    ">* The imbalanced dataset will affect the generalisation ability of the model as the dataset is biased towards predicting a sample being `not ready`. "
   ]
  },
  {
   "cell_type": "markdown",
   "id": "a97ba548",
   "metadata": {},
   "source": [
    "## Prepare baseline performance. "
   ]
  },
  {
   "cell_type": "markdown",
   "id": "8a250259",
   "metadata": {},
   "source": [
    ">During class imbalance the accuracy of the Random forest(RF) classifier is linked to its ability to correctly predict the negative class `'not ready'`. We can illustrate the issue using a dummy classifier as a baseline."
   ]
  },
  {
   "cell_type": "markdown",
   "id": "f559ca84",
   "metadata": {},
   "source": [
    "##### Dummy classifier"
   ]
  },
  {
   "cell_type": "code",
   "execution_count": 15,
   "id": "4c738104",
   "metadata": {},
   "outputs": [
    {
     "name": "stdout",
     "output_type": "stream",
     "text": [
      "The accuracy of the dummy classifier: 0.9076923076923077\n"
     ]
    }
   ],
   "source": [
    "dummy_classifier = DummyClassifier(strategy=\"most_frequent\")\n",
    "\n",
    "dummy_classifier.fit(data_train, target_train)\n",
    "\n",
    "accuracy_dummy = dummy_classifier.score(data_test, target_test)\n",
    "\n",
    "print(f\"The accuracy of the dummy classifier: {accuracy_dummy}\")"
   ]
  },
  {
   "cell_type": "markdown",
   "id": "51a6efcd",
   "metadata": {},
   "source": [
    "##### Random Forest Classifier"
   ]
  },
  {
   "cell_type": "code",
   "execution_count": 16,
   "id": "c5843151",
   "metadata": {},
   "outputs": [
    {
     "name": "stdout",
     "output_type": "stream",
     "text": [
      "The accuracy of the rf classifier: 0.9653846153846154\n"
     ]
    }
   ],
   "source": [
    "rf = RandomForestClassifier(n_estimators=100, n_jobs=2, random_state=random_state)\n",
    "\n",
    "rf.fit(data_train, target_train)\n",
    "\n",
    "accuracy_rf = rf.score(data_test, target_test)\n",
    "\n",
    "print(f\"The accuracy of the rf classifier: {accuracy_rf}\")"
   ]
  },
  {
   "cell_type": "markdown",
   "id": "920122b1",
   "metadata": {},
   "source": [
    "> * It is observed, the dummy classifier which always predicts label `'not read'` has an accuracy of <b> 90.7% </b> where as the random forest classifier that considered both categiories has an accuracy of <b> 96.5% </b>. "
   ]
  },
  {
   "cell_type": "markdown",
   "id": "1f8ba0d1",
   "metadata": {},
   "source": [
    "> * Accuracy indicates how accurate the model in predicting the labels. \n",
    "> * Literature suggests that in the case of class imbalance problems reporting `'accuracy'` is not recommended. Instead one should use `'recall'` and '`precision'` score or '`balanced accuracy'` isntead of just '`accuracy'`. "
   ]
  },
  {
   "cell_type": "markdown",
   "id": "8f2e5923",
   "metadata": {},
   "source": [
    "##### Balanced Accuracy"
   ]
  },
  {
   "cell_type": "code",
   "execution_count": 17,
   "id": "7d342955",
   "metadata": {},
   "outputs": [
    {
     "name": "stdout",
     "output_type": "stream",
     "text": [
      "Balanced Accuracy : 0.962\n"
     ]
    }
   ],
   "source": [
    "target_predicted_test = rf.predict(data_test)\n",
    "\n",
    "balanced_accuracy = balanced_accuracy_score(target_test, target_predicted_test)\n",
    "\n",
    "print(f\"Balanced Accuracy : {balanced_accuracy:.3f}\")"
   ]
  },
  {
   "cell_type": "markdown",
   "id": "5ecefefb",
   "metadata": {},
   "source": [
    "> * The `Balanced Accuracy` scores the average of recall obtained on each label.\n",
    "> * The `Balanced Accuracy` of <b>0.96</b> means that the model is correct <b>96%</b> of the time on average when predicting both `ready` and `not ready`. This metric gives equal weigths to both labels. "
   ]
  },
  {
   "cell_type": "markdown",
   "id": "fa59ad88",
   "metadata": {},
   "source": [
    "##### Recall and Precision score .. Visualising confusion matrix"
   ]
  },
  {
   "cell_type": "code",
   "execution_count": 18,
   "id": "4be94239",
   "metadata": {},
   "outputs": [
    {
     "data": {
      "image/png": "[encoded data removed]",
      "text/plain": [
       "<Figure size 640x480 with 2 Axes>"
      ]
     },
     "metadata": {},
     "output_type": "display_data"
    }
   ],
   "source": [
    "_ = ConfusionMatrixDisplay.from_estimator(rf, data_test, target_test)"
   ]
  },
  {
   "cell_type": "markdown",
   "id": "ce256997",
   "metadata": {},
   "source": [
    "Another measure to evalute the performance of the model is to plot a confusion matrix.\n",
    "1. <b> True Positives (TP): </b> The samples that are `0:not ready` and were correctly predcited to be `0:not ready` [23]\n",
    "2. <b> True Negatives (TN): </b> The samples that are `1:ready` and were correctly predcited to be `1:ready` [228]\n",
    "3. <b> False Negative (FN): </b> The samples that are `0:not ready` and were incorrectly  predcited to be `1:ready` [8]\n",
    "4. <b> False Positves (FN): </b> The samples that are `1:ready` and were incorrectly predcited to be not `0:not ready` [1]"
   ]
  },
  {
   "cell_type": "code",
   "execution_count": 19,
   "id": "95890fd3",
   "metadata": {},
   "outputs": [
    {
     "name": "stdout",
     "output_type": "stream",
     "text": [
      "Precision score: 0.742\n",
      "Recall score: 0.958\n"
     ]
    }
   ],
   "source": [
    "precision = precision_score(target_test, target_predicted_test, pos_label=\"ready\")\n",
    "recall = recall_score(target_test, target_predicted_test, pos_label=\"ready\")\n",
    "\n",
    "print(f\"Precision score: {precision:.3f}\")\n",
    "print(f\"Recall score: {recall:.3f}\")"
   ]
  },
  {
   "cell_type": "markdown",
   "id": "92660c89",
   "metadata": {},
   "source": [
    "> * The `Precision score` of <b> 0.742 </b> means that when the model predicts a sample is `ready` then it is accurate about <b>74.2%</b> of the time. \n",
    "> *The `Recall score` of <b> 0.958 </b> means that out of all the actual samples that are `ready`, the model correctly identifies <b>95.8%</b> them. Rest of the `ready` samples will be missed by the model. "
   ]
  },
  {
   "cell_type": "markdown",
   "id": "0516e040",
   "metadata": {},
   "source": [
    "##### Using the helper function to record the scores for comparitive analysis. "
   ]
  },
  {
   "cell_type": "code",
   "execution_count": 20,
   "id": "60bc1360",
   "metadata": {},
   "outputs": [
    {
     "name": "stderr",
     "output_type": "stream",
     "text": [
      "c:\\users\\prateekwahi\\anaconda3\\lib\\site-packages\\sklearn\\metrics\\_classification.py:1471: UndefinedMetricWarning: Precision is ill-defined and being set to 0.0 due to no predicted samples. Use `zero_division` parameter to control this behavior.\n",
      "  _warn_prf(average, modifier, msg_start, len(result))\n"
     ]
    }
   ],
   "source": [
    "dummy = score_recorder(\"dummy\", dummy_classifier, data_train, target_train, data_test, target_test)\n",
    "random_forest = score_recorder(\"Random forest\", rf, data_train, target_train, data_test, target_test)"
   ]
  },
  {
   "cell_type": "code",
   "execution_count": 21,
   "id": "e653ea74",
   "metadata": {},
   "outputs": [
    {
     "data": {
      "text/html": [
       "<div>\n",
       "<style scoped>\n",
       "    .dataframe tbody tr th:only-of-type {\n",
       "        vertical-align: middle;\n",
       "    }\n",
       "\n",
       "    .dataframe tbody tr th {\n",
       "        vertical-align: top;\n",
       "    }\n",
       "\n",
       "    .dataframe thead th {\n",
       "        text-align: right;\n",
       "    }\n",
       "</style>\n",
       "<table border=\"1\" class=\"dataframe\">\n",
       "  <thead>\n",
       "    <tr style=\"text-align: right;\">\n",
       "      <th></th>\n",
       "      <th>Train_accuracy</th>\n",
       "      <th>Test_accuracy</th>\n",
       "      <th>Balanced_accuracy</th>\n",
       "      <th>Test_Precision</th>\n",
       "      <th>Test_Recall</th>\n",
       "      <th>Test_F1_score</th>\n",
       "    </tr>\n",
       "  </thead>\n",
       "  <tbody>\n",
       "    <tr>\n",
       "      <th>dummy</th>\n",
       "      <td>0.916346</td>\n",
       "      <td>0.907692</td>\n",
       "      <td>0.500000</td>\n",
       "      <td>0.000000</td>\n",
       "      <td>0.000000</td>\n",
       "      <td>0.000000</td>\n",
       "    </tr>\n",
       "    <tr>\n",
       "      <th>Random forest</th>\n",
       "      <td>1.000000</td>\n",
       "      <td>0.965385</td>\n",
       "      <td>0.962218</td>\n",
       "      <td>0.741935</td>\n",
       "      <td>0.958333</td>\n",
       "      <td>0.836364</td>\n",
       "    </tr>\n",
       "  </tbody>\n",
       "</table>\n",
       "</div>"
      ],
      "text/plain": [
       "               Train_accuracy  Test_accuracy  Balanced_accuracy  \\\n",
       "dummy                0.916346       0.907692           0.500000   \n",
       "Random forest        1.000000       0.965385           0.962218   \n",
       "\n",
       "               Test_Precision  Test_Recall  Test_F1_score  \n",
       "dummy                0.000000     0.000000       0.000000  \n",
       "Random forest        0.741935     0.958333       0.836364  "
      ]
     },
     "execution_count": 21,
     "metadata": {},
     "output_type": "execute_result"
    }
   ],
   "source": [
    "pd.concat([dummy, random_forest], axis = 0)"
   ]
  },
  {
   "cell_type": "markdown",
   "id": "76745c83",
   "metadata": {},
   "source": [
    "# Imbalance data set solutions. "
   ]
  },
  {
   "cell_type": "markdown",
   "id": "fd6973ba",
   "metadata": {},
   "source": [
    "> There are two methods suggested in the literature to solve the problem of imbalanced class.\n",
    "> 1. <b>Cost-sensitive</b> : Assigning high cost to missclassify the minority class. "
   ]
  },
  {
   "cell_type": "markdown",
   "id": "87448c31",
   "metadata": {},
   "source": [
    "### 1. Testing Cost - sensitive method"
   ]
  },
  {
   "cell_type": "markdown",
   "id": "dcaf759a",
   "metadata": {},
   "source": [
    "> The cost sensitive method is applied using class_weight paramter in random forest classifier. Weight are calculated based on scikit learn doumentation. <br> Total samples / (Number of classes * number of samples in the class)"
   ]
  },
  {
   "cell_type": "code",
   "execution_count": 22,
   "id": "160c71cc",
   "metadata": {},
   "outputs": [],
   "source": [
    "# calculating the weights as per scilearn documentation\n",
    "ready = len(data)/(2 * target.value_counts()[\"ready\"])\n",
    "not_ready = len(data)/(2 * target.value_counts()[\"not_ready\"])"
   ]
  },
  {
   "cell_type": "code",
   "execution_count": 23,
   "id": "d481db16",
   "metadata": {},
   "outputs": [
    {
     "data": {
      "text/html": [
       "<style>#sk-container-id-1 {color: black;}#sk-container-id-1 pre{padding: 0;}#sk-container-id-1 div.sk-toggleable {background-color: white;}#sk-container-id-1 label.sk-toggleable__label {cursor: pointer;display: block;width: 100%;margin-bottom: 0;padding: 0.3em;box-sizing: border-box;text-align: center;}#sk-container-id-1 label.sk-toggleable__label-arrow:before {content: \"▸\";float: left;margin-right: 0.25em;color: #696969;}#sk-container-id-1 label.sk-toggleable__label-arrow:hover:before {color: black;}#sk-container-id-1 div.sk-estimator:hover label.sk-toggleable__label-arrow:before {color: black;}#sk-container-id-1 div.sk-toggleable__content {max-height: 0;max-width: 0;overflow: hidden;text-align: left;background-color: #f0f8ff;}#sk-container-id-1 div.sk-toggleable__content pre {margin: 0.2em;color: black;border-radius: 0.25em;background-color: #f0f8ff;}#sk-container-id-1 input.sk-toggleable__control:checked~div.sk-toggleable__content {max-height: 200px;max-width: 100%;overflow: auto;}#sk-container-id-1 input.sk-toggleable__control:checked~label.sk-toggleable__label-arrow:before {content: \"▾\";}#sk-container-id-1 div.sk-estimator input.sk-toggleable__control:checked~label.sk-toggleable__label {background-color: #d4ebff;}#sk-container-id-1 div.sk-label input.sk-toggleable__control:checked~label.sk-toggleable__label {background-color: #d4ebff;}#sk-container-id-1 input.sk-hidden--visually {border: 0;clip: rect(1px 1px 1px 1px);clip: rect(1px, 1px, 1px, 1px);height: 1px;margin: -1px;overflow: hidden;padding: 0;position: absolute;width: 1px;}#sk-container-id-1 div.sk-estimator {font-family: monospace;background-color: #f0f8ff;border: 1px dotted black;border-radius: 0.25em;box-sizing: border-box;margin-bottom: 0.5em;}#sk-container-id-1 div.sk-estimator:hover {background-color: #d4ebff;}#sk-container-id-1 div.sk-parallel-item::after {content: \"\";width: 100%;border-bottom: 1px solid gray;flex-grow: 1;}#sk-container-id-1 div.sk-label:hover label.sk-toggleable__label {background-color: #d4ebff;}#sk-container-id-1 div.sk-serial::before {content: \"\";position: absolute;border-left: 1px solid gray;box-sizing: border-box;top: 0;bottom: 0;left: 50%;z-index: 0;}#sk-container-id-1 div.sk-serial {display: flex;flex-direction: column;align-items: center;background-color: white;padding-right: 0.2em;padding-left: 0.2em;position: relative;}#sk-container-id-1 div.sk-item {position: relative;z-index: 1;}#sk-container-id-1 div.sk-parallel {display: flex;align-items: stretch;justify-content: center;background-color: white;position: relative;}#sk-container-id-1 div.sk-item::before, #sk-container-id-1 div.sk-parallel-item::before {content: \"\";position: absolute;border-left: 1px solid gray;box-sizing: border-box;top: 0;bottom: 0;left: 50%;z-index: -1;}#sk-container-id-1 div.sk-parallel-item {display: flex;flex-direction: column;z-index: 1;position: relative;background-color: white;}#sk-container-id-1 div.sk-parallel-item:first-child::after {align-self: flex-end;width: 50%;}#sk-container-id-1 div.sk-parallel-item:last-child::after {align-self: flex-start;width: 50%;}#sk-container-id-1 div.sk-parallel-item:only-child::after {width: 0;}#sk-container-id-1 div.sk-dashed-wrapped {border: 1px dashed gray;margin: 0 0.4em 0.5em 0.4em;box-sizing: border-box;padding-bottom: 0.4em;background-color: white;}#sk-container-id-1 div.sk-label label {font-family: monospace;font-weight: bold;display: inline-block;line-height: 1.2em;}#sk-container-id-1 div.sk-label-container {text-align: center;}#sk-container-id-1 div.sk-container {/* jupyter's `normalize.less` sets `[hidden] { display: none; }` but bootstrap.min.css set `[hidden] { display: none !important; }` so we also need the `!important` here to be able to override the default hidden behavior on the sphinx rendered scikit-learn.org. See: https://github.com/scikit-learn/scikit-learn/issues/21755 */display: inline-block !important;position: relative;}#sk-container-id-1 div.sk-text-repr-fallback {display: none;}</style><div id=\"sk-container-id-1\" class=\"sk-top-container\"><div class=\"sk-text-repr-fallback\"><pre>RandomForestClassifier(class_weight={&#x27;not_ready&#x27;: 0.5466778805719091,\n",
       "                                     &#x27;ready&#x27;: 5.8558558558558556},\n",
       "                       n_jobs=2, random_state=0)</pre><b>In a Jupyter environment, please rerun this cell to show the HTML representation or trust the notebook. <br />On GitHub, the HTML representation is unable to render, please try loading this page with nbviewer.org.</b></div><div class=\"sk-container\" hidden><div class=\"sk-item\"><div class=\"sk-estimator sk-toggleable\"><input class=\"sk-toggleable__control sk-hidden--visually\" id=\"sk-estimator-id-1\" type=\"checkbox\" checked><label for=\"sk-estimator-id-1\" class=\"sk-toggleable__label sk-toggleable__label-arrow\">RandomForestClassifier</label><div class=\"sk-toggleable__content\"><pre>RandomForestClassifier(class_weight={&#x27;not_ready&#x27;: 0.5466778805719091,\n",
       "                                     &#x27;ready&#x27;: 5.8558558558558556},\n",
       "                       n_jobs=2, random_state=0)</pre></div></div></div></div></div>"
      ],
      "text/plain": [
       "RandomForestClassifier(class_weight={'not_ready': 0.5466778805719091,\n",
       "                                     'ready': 5.8558558558558556},\n",
       "                       n_jobs=2, random_state=0)"
      ]
     },
     "execution_count": 23,
     "metadata": {},
     "output_type": "execute_result"
    }
   ],
   "source": [
    "# Randomforest classifier with eighted class\n",
    "rf_weight = RandomForestClassifier(\n",
    "    n_estimators= 100, \n",
    "    n_jobs=2, \n",
    "    random_state=random_state, \n",
    "    class_weight={\"not_ready\":not_ready, \"ready\":ready}\n",
    "    # class_weight=\"balanced_subsample\"\n",
    ")\n",
    "\n",
    "rf_weight.fit(data_train, target_train)"
   ]
  },
  {
   "cell_type": "code",
   "execution_count": 24,
   "id": "1b031adc",
   "metadata": {},
   "outputs": [
    {
     "data": {
      "text/html": [
       "<div>\n",
       "<style scoped>\n",
       "    .dataframe tbody tr th:only-of-type {\n",
       "        vertical-align: middle;\n",
       "    }\n",
       "\n",
       "    .dataframe tbody tr th {\n",
       "        vertical-align: top;\n",
       "    }\n",
       "\n",
       "    .dataframe thead th {\n",
       "        text-align: right;\n",
       "    }\n",
       "</style>\n",
       "<table border=\"1\" class=\"dataframe\">\n",
       "  <thead>\n",
       "    <tr style=\"text-align: right;\">\n",
       "      <th></th>\n",
       "      <th>Train_accuracy</th>\n",
       "      <th>Test_accuracy</th>\n",
       "      <th>Balanced_accuracy</th>\n",
       "      <th>Test_Precision</th>\n",
       "      <th>Test_Recall</th>\n",
       "      <th>Test_F1_score</th>\n",
       "    </tr>\n",
       "  </thead>\n",
       "  <tbody>\n",
       "    <tr>\n",
       "      <th>dummy</th>\n",
       "      <td>0.916346</td>\n",
       "      <td>0.907692</td>\n",
       "      <td>0.500000</td>\n",
       "      <td>0.000000</td>\n",
       "      <td>0.000000</td>\n",
       "      <td>0.000000</td>\n",
       "    </tr>\n",
       "    <tr>\n",
       "      <th>Random forest</th>\n",
       "      <td>1.000000</td>\n",
       "      <td>0.965385</td>\n",
       "      <td>0.962218</td>\n",
       "      <td>0.741935</td>\n",
       "      <td>0.958333</td>\n",
       "      <td>0.836364</td>\n",
       "    </tr>\n",
       "    <tr>\n",
       "      <th>RF_weighted_class</th>\n",
       "      <td>1.000000</td>\n",
       "      <td>0.980769</td>\n",
       "      <td>0.951977</td>\n",
       "      <td>0.880000</td>\n",
       "      <td>0.916667</td>\n",
       "      <td>0.897959</td>\n",
       "    </tr>\n",
       "  </tbody>\n",
       "</table>\n",
       "</div>"
      ],
      "text/plain": [
       "                   Train_accuracy  Test_accuracy  Balanced_accuracy  \\\n",
       "dummy                    0.916346       0.907692           0.500000   \n",
       "Random forest            1.000000       0.965385           0.962218   \n",
       "RF_weighted_class        1.000000       0.980769           0.951977   \n",
       "\n",
       "                   Test_Precision  Test_Recall  Test_F1_score  \n",
       "dummy                    0.000000     0.000000       0.000000  \n",
       "Random forest            0.741935     0.958333       0.836364  \n",
       "RF_weighted_class        0.880000     0.916667       0.897959  "
      ]
     },
     "execution_count": 24,
     "metadata": {},
     "output_type": "execute_result"
    }
   ],
   "source": [
    "weighted_class = score_recorder(\"RF_weighted_class\", rf_weight, data_train, target_train, data_test, target_test)\n",
    "pd.concat([dummy, random_forest, weighted_class])"
   ]
  },
  {
   "cell_type": "markdown",
   "id": "ad5235ae",
   "metadata": {},
   "source": [
    "> * In the context of this study it is important to have a balanced Precision and Recall Score. \n",
    "> * <b>Precision Score</b> : Reducing `False Positives` by not labelling a sample `ready` when it is actually `not ready`. \n",
    ">> * <b><i>False Positives: </i></b> These occur when the model incorrectly predicts the positive class(`ready`). For example, when predicting whether a house is ready for MT or LT supply, a false positive would mean that the model predicts a house is ready when it’s actually not. The consequence might be that resources are wasted on a house that doesn’t need them\n",
    "> * <b> Recall Score </b> : Reducing `false negatives` by recoginising all the samples that are `ready`. \n",
    ">> * <b><i>False Negatives: </i></b> These occur when the model incorrectly predicts the negative class (`not ready`). In the same example, a false negative would mean that the model predicts a house is not ready when it actually is. The consequence might be that a house that could benefit from MT or LT supply doesn’t receive it."
   ]
  },
  {
   "cell_type": "code",
   "execution_count": 25,
   "id": "36836a85",
   "metadata": {},
   "outputs": [
    {
     "data": {
      "text/plain": [
       "<Axes: >"
      ]
     },
     "execution_count": 25,
     "metadata": {},
     "output_type": "execute_result"
    },
    {
     "data": {
      "image/png": "[encoded data removed]",
      "text/plain": [
       "<Figure size 640x480 with 1 Axes>"
      ]
     },
     "metadata": {},
     "output_type": "display_data"
    }
   ],
   "source": [
    "importances_weight = rf_weight.feature_importances_\n",
    "feature_names_weight = rf_weight.feature_names_in_\n",
    "pd.Series(importances_weight, feature_names_weight).sort_values(ascending=True).plot.barh()"
   ]
  }
 ],
 "metadata": {
  "kernelspec": {
   "display_name": "Python 3 (ipykernel)",
   "language": "python",
   "name": "python3"
  },
  "language_info": {
   "codemirror_mode": {
    "name": "ipython",
    "version": 3
   },
   "file_extension": ".py",
   "mimetype": "text/x-python",
   "name": "python",
   "nbconvert_exporter": "python",
   "pygments_lexer": "ipython3",
   "version": "3.8.8"
  }
 },
 "nbformat": 4,
 "nbformat_minor": 5
}
